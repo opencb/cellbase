{
 "cells": [
  {
   "cell_type": "markdown",
   "metadata": {},
   "source": [
    "# PyCellBase usage example"
   ]
  },
  {
   "cell_type": "markdown",
   "metadata": {},
   "source": [
    "In this use case we are interested in getting missense variants from all the genes that are within two genomic regions of interest: `17:43045767-43046767` and `13:32317272-32318272`."
   ]
  },
  {
   "cell_type": "markdown",
   "metadata": {},
   "source": [
    "Before starting, we import all the required modules for this example:"
   ]
  },
  {
   "cell_type": "code",
   "execution_count": 1,
   "metadata": {},
   "outputs": [],
   "source": [
    "from pycellbase.cbconfig import ConfigClient  # Configuration client\n",
    "from pycellbase.cbclient import CellBaseClient  # CellBase client"
   ]
  },
  {
   "cell_type": "markdown",
   "metadata": {},
   "source": [
    "## Step 1: Setting up the configuration"
   ]
  },
  {
   "cell_type": "markdown",
   "metadata": {},
   "source": [
    "PyCellBase configuration follows the next structure:"
   ]
  },
  {
   "cell_type": "code",
   "execution_count": 2,
   "metadata": {},
   "outputs": [],
   "source": [
    "config = {\n",
    "    'rest': {'hosts': ['http://bioinfo.hpc.cam.ac.uk/cellbase']},  # List of RESTful host URLs\n",
    "    'species': 'hsapiens',  # Name of the species\n",
    "    'version': 'v4'  # API version\n",
    "}"
   ]
  },
  {
   "cell_type": "markdown",
   "metadata": {},
   "source": [
    "<div class=\"alert alert-info\">\n",
    "<b>INFO:</b> The first available and valid host URL will be selected from the provided list of hosts\n",
    "</div>"
   ]
  },
  {
   "cell_type": "markdown",
   "metadata": {},
   "source": [
    "<div class=\"alert alert-info\">\n",
    "<b>INFO:</b> For a full list of potentially available species, please refer to: <a href=\"http://bioinfo.hpc.cam.ac.uk/cellbase/webservices/rest/v4/meta/species\">http://bioinfo.hpc.cam.ac.uk/cellbase/webservices/rest/v4/meta/species</a>\n",
    "</div>"
   ]
  },
  {
   "cell_type": "markdown",
   "metadata": {},
   "source": [
    "This custom configuration can be stored in a **YAML** file, **JSON** file or **Python dictionary**. Then, one of these files or dictionary can be passed to the `ConfigClient` class, which is in charge of managing the configuration:"
   ]
  },
  {
   "cell_type": "code",
   "execution_count": 3,
   "metadata": {},
   "outputs": [],
   "source": [
    "cc = ConfigClient(config)"
   ]
  },
  {
   "cell_type": "markdown",
   "metadata": {},
   "source": [
    "<div class=\"alert alert-warning\">\n",
    "<b>WARNING:</b> If no custom configuration is passed to <i>ConfigClient</i>, the default configuration is used.\n",
    "</div>"
   ]
  },
  {
   "cell_type": "markdown",
   "metadata": {},
   "source": [
    "If we need an example of the configuration structure, we can get the default one using the `get_default_configuration` method:"
   ]
  },
  {
   "cell_type": "code",
   "execution_count": 4,
   "metadata": {
    "scrolled": true
   },
   "outputs": [
    {
     "data": {
      "text/plain": [
       "{'rest': {'hosts': ['http://bioinfo.hpc.cam.ac.uk:80/cellbase']},\n",
       " 'species': 'hsapiens',\n",
       " 'version': 'v4'}"
      ]
     },
     "execution_count": 4,
     "metadata": {},
     "output_type": "execute_result"
    }
   ],
   "source": [
    "cc.get_default_configuration()"
   ]
  },
  {
   "cell_type": "markdown",
   "metadata": {},
   "source": [
    "## Step 2: Initialising CellBase client"
   ]
  },
  {
   "cell_type": "markdown",
   "metadata": {},
   "source": [
    "Once we have set up our PyCellBase configuration, we can create the `CellBaseClient`, which is the central class of this package. We can pass a `ConfigClient` with a customised configuration to `CellBaseClient`:"
   ]
  },
  {
   "cell_type": "code",
   "execution_count": 5,
   "metadata": {},
   "outputs": [],
   "source": [
    "cbc = CellBaseClient(cc)"
   ]
  },
  {
   "cell_type": "markdown",
   "metadata": {},
   "source": [
    "We can check at any moment the configuration parameters used to make the calls to the database:"
   ]
  },
  {
   "cell_type": "code",
   "execution_count": 6,
   "metadata": {},
   "outputs": [
    {
     "data": {
      "text/plain": [
       "{'host': 'http://bioinfo.hpc.cam.ac.uk/cellbase',\n",
       " 'species': 'hsapiens',\n",
       " 'version': 'v4'}"
      ]
     },
     "execution_count": 6,
     "metadata": {},
     "output_type": "execute_result"
    }
   ],
   "source": [
    "cbc.show_configuration()"
   ]
  },
  {
   "cell_type": "markdown",
   "metadata": {},
   "source": [
    "<div class=\"alert alert-warning\">\n",
    "<b>WARNING:</b> If no custom configuration is passed to <i>CellBaseClient</i>, the default configuration is used.\n",
    "</div>"
   ]
  },
  {
   "cell_type": "markdown",
   "metadata": {},
   "source": [
    "We can modify our `CellBaseClient` configuration at any moment by modifying the `ConfigClient` attributes:"
   ]
  },
  {
   "cell_type": "code",
   "execution_count": 7,
   "metadata": {},
   "outputs": [
    {
     "data": {
      "text/plain": [
       "{'host': 'http://bioinfo.hpc.cam.ac.uk/cellbase',\n",
       " 'species': 'celegans',\n",
       " 'version': 'v4'}"
      ]
     },
     "execution_count": 7,
     "metadata": {},
     "output_type": "execute_result"
    }
   ],
   "source": [
    "cc.species = 'celegans'\n",
    "cbc.show_configuration()"
   ]
  },
  {
   "cell_type": "code",
   "execution_count": 8,
   "metadata": {},
   "outputs": [
    {
     "data": {
      "text/plain": [
       "{'host': 'http://bioinfo.hpc.cam.ac.uk/cellbase',\n",
       " 'species': 'hsapiens',\n",
       " 'version': 'v4'}"
      ]
     },
     "execution_count": 8,
     "metadata": {},
     "output_type": "execute_result"
    }
   ],
   "source": [
    "cc.species = 'hsapiens'\n",
    "cbc.show_configuration()"
   ]
  },
  {
   "cell_type": "markdown",
   "metadata": {},
   "source": [
    "## Step 3: Querying CellBase"
   ]
  },
  {
   "cell_type": "markdown",
   "metadata": {},
   "source": [
    "Once we have initialised the main `CellBaseClient` class, we are ready to query the database. First, we want to get all the genes that are within our regions of interest. To get information from genomic regions, we get the region-specific client:"
   ]
  },
  {
   "cell_type": "code",
   "execution_count": 9,
   "metadata": {},
   "outputs": [],
   "source": [
    "rc = cbc.get_region_client()"
   ]
  },
  {
   "cell_type": "markdown",
   "metadata": {},
   "source": [
    "<div class=\"alert alert-info\">\n",
    "<b>INFO:</b> For a list of potentially available endpoints, please refer to <a href=\"http://bioinfo.hpc.cam.ac.uk/cellbase/webservices\">http://bioinfo.hpc.cam.ac.uk/cellbase/webservices</a>\n",
    "</div>"
   ]
  },
  {
   "cell_type": "markdown",
   "metadata": {},
   "source": [
    "<div class=\"alert alert-info\">\n",
    "<b>INFO:</b> For a full list of potentially available assemblies, please refer to: <a href=\"http://bioinfo.hpc.cam.ac.uk/cellbase/webservices/rest/v4/meta/species\">http://bioinfo.hpc.cam.ac.uk/cellbase/webservices/rest/v4/meta/species</a>\n",
    "</div>"
   ]
  },
  {
   "cell_type": "markdown",
   "metadata": {},
   "source": [
    "If we do not know which method is the most adequate for our task, we can get helpful information for each data-specific client. In this case we are interested in gettting all the genes within a region, so we are going to use the `get_gene` method:"
   ]
  },
  {
   "cell_type": "code",
   "execution_count": 10,
   "metadata": {},
   "outputs": [
    {
     "name": "stdout",
     "output_type": "stream",
     "text": [
      "RegionClient\n",
      "    - get_clinical: Retrieves all the clinical variants\n",
      "    - get_conservation: Retrieves all the conservation scores\n",
      "    - get_gene: Retrieves all the gene objects for the regions. If query param histogram=true, frequency values per genomic interval will be returned instead.\n",
      "    - get_model: Get JSON specification of Variant data model\n",
      "    - get_regulatory: Retrieves all regulatory elements in a region\n",
      "    - get_repeat: Retrieves all repeats for the regions\n",
      "    - get_sequence: Retrieves genomic sequence\n",
      "    - get_tfbs: Retrieves all transcription factor binding site objects for the regions. If query param histogram=true, frequency values per genomic interval will be returned instead.\n",
      "    - get_transcript: Retrieves all transcript objects for the regions\n",
      "    - get_variation: Retrieves all the variant objects for the regions. If query param histogram=true, frequency values per genomic interval will be returned instead.\n"
     ]
    }
   ],
   "source": [
    "rc.get_help()"
   ]
  },
  {
   "cell_type": "markdown",
   "metadata": {},
   "source": [
    "<div class=\"alert alert-info\">\n",
    "<b>INFO:</b> We can get the accepted parameters and filters for a specific method of interest by using the <i>get_help</i> method: <i>rc.get_help('get_gene', show_params=True)</i>\n",
    "</div>"
   ]
  },
  {
   "cell_type": "markdown",
   "metadata": {},
   "source": [
    "Once we have our data-specific client, we can query the database with our query of interest and get the JSON response returned by CellBase."
   ]
  },
  {
   "cell_type": "code",
   "execution_count": 11,
   "metadata": {},
   "outputs": [],
   "source": [
    "regions_info = rc.get_gene('17:43045767-43046767,13:32317272-32318272', assembly='GRCh38')"
   ]
  },
  {
   "cell_type": "markdown",
   "metadata": {},
   "source": [
    "<div class=\"alert alert-info\">\n",
    "<b>INFO:</b> Multiple queries can be passed as comma-separated values (<i>'17:43045767-43046767,13:32317272-32318272'</i>) or as a Python list (<i>['17:43045767-43046767', '13:32317272-32318272']</i>)\n",
    "</div>"
   ]
  },
  {
   "cell_type": "markdown",
   "metadata": {},
   "source": [
    "The obtained response is a list of results for each query. In this case we have asked for information for two different regions so our response has two elements:"
   ]
  },
  {
   "cell_type": "code",
   "execution_count": 12,
   "metadata": {},
   "outputs": [],
   "source": [
    "region1_result = regions_info[0]['result']  # 17:43045767-43046767\n",
    "region2_result = regions_info[1]['result']  # 13:32317272-32318272"
   ]
  },
  {
   "cell_type": "markdown",
   "metadata": {},
   "source": [
    "Now that we have the CellBase JSON output, it's just a question of navigating through it to retrieve the information of interest."
   ]
  },
  {
   "cell_type": "code",
   "execution_count": 13,
   "metadata": {},
   "outputs": [
    {
     "data": {
      "text/plain": [
       "[u'BRCA1', u'BRCA2']"
      ]
     },
     "execution_count": 13,
     "metadata": {},
     "output_type": "execute_result"
    }
   ],
   "source": [
    "genes = []\n",
    "for region in regions_info:\n",
    "    for gene in region['result']:\n",
    "        genes.append(gene['name'])\n",
    "genes"
   ]
  },
  {
   "cell_type": "markdown",
   "metadata": {},
   "source": [
    "We have found two genes overlapping our regions of interest. Our next step is getting the variants within those genes. To get information from genes, we get the gene-specific client:"
   ]
  },
  {
   "cell_type": "code",
   "execution_count": 14,
   "metadata": {},
   "outputs": [],
   "source": [
    "gc = cbc.get_gene_client()"
   ]
  },
  {
   "cell_type": "markdown",
   "metadata": {},
   "source": [
    "In this example, as there are a lot of variants in these genes, we are going to limit the returned results to 5 variants per gene (limit=5), skipping the first 1100 variants (skip=1100):"
   ]
  },
  {
   "cell_type": "code",
   "execution_count": 15,
   "metadata": {},
   "outputs": [],
   "source": [
    "genes_info = gc.get_snp(genes, assembly='GRCh38', limit=5, skip=1100)"
   ]
  },
  {
   "cell_type": "markdown",
   "metadata": {},
   "source": [
    "As before, once we get the response, we just need to navigate through the output JSON to get the information of interest:"
   ]
  },
  {
   "cell_type": "code",
   "execution_count": 16,
   "metadata": {},
   "outputs": [
    {
     "data": {
      "text/plain": [
       "[u'17:43045767:G:A',\n",
       " u'17:43045768:G:A',\n",
       " u'17:43045769:G:A',\n",
       " u'17:43045770:TCACC:T',\n",
       " u'17:43045772:A:G',\n",
       " u'13:32317262:T:C',\n",
       " u'13:32317271:G:C',\n",
       " u'13:32317272:C:A',\n",
       " u'13:32317275:A:G',\n",
       " u'13:32317298:A:G']"
      ]
     },
     "execution_count": 16,
     "metadata": {},
     "output_type": "execute_result"
    }
   ],
   "source": [
    "variants = []\n",
    "for gene in genes_info:\n",
    "    for variant in gene['result']:\n",
    "        variants.append(':'.join([variant['chromosome'], str(variant['start']), variant['reference'], variant['alternate']]))\n",
    "variants"
   ]
  },
  {
   "cell_type": "markdown",
   "metadata": {},
   "source": [
    "After getting the variants, the last step is selecting those ones whose consequence is missense (SO:0001583). To get information from variants, we get the variant-specific client:"
   ]
  },
  {
   "cell_type": "code",
   "execution_count": 17,
   "metadata": {},
   "outputs": [],
   "source": [
    "vc = cbc.get_variant_client()"
   ]
  },
  {
   "cell_type": "markdown",
   "metadata": {},
   "source": [
    "As before, we query the database and navigate through the output JSON to select our variants of interest."
   ]
  },
  {
   "cell_type": "code",
   "execution_count": 18,
   "metadata": {},
   "outputs": [
    {
     "data": {
      "text/plain": [
       "[u'17:43045769:G:A', u'17:43045772:A:G']"
      ]
     },
     "execution_count": 18,
     "metadata": {},
     "output_type": "execute_result"
    }
   ],
   "source": [
    "# Querying the database\n",
    "variants_info = vc.get_annotation(variants, assembly='GRCh38')\n",
    "\n",
    "# Navigating the output\n",
    "missense_variants = []\n",
    "for index, variant in enumerate(variants_info):\n",
    "    # Getting variant consequences\n",
    "    for consequence in variant['result'][0]['consequenceTypes']:\n",
    "        # Filtering by Ensembl transcript ID\n",
    "        if 'ensemblTranscriptId' in consequence and consequence['ensemblTranscriptId'] in ['ENST00000357654', 'ENST00000544455']:\n",
    "            # Filtering by missense variant (SO:0001583)\n",
    "            if 'SO:0001583' in [so['accession'] for so in consequence['sequenceOntologyTerms']]:\n",
    "                missense_variants.append(variants[index])\n",
    "missense_variants"
   ]
  },
  {
   "cell_type": "markdown",
   "metadata": {},
   "source": [
    "Finally, we have found two missense variants appearing in the genes of our region of interest."
   ]
  }
 ],
 "metadata": {
  "kernelspec": {
   "display_name": "Python 2",
   "language": "python",
   "name": "python2"
  },
  "language_info": {
   "codemirror_mode": {
    "name": "ipython",
    "version": 2
   },
   "file_extension": ".py",
   "mimetype": "text/x-python",
   "name": "python",
   "nbconvert_exporter": "python",
   "pygments_lexer": "ipython2",
   "version": "2.7.12"
  }
 },
 "nbformat": 4,
 "nbformat_minor": 2
}
